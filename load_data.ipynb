{
 "cells": [
  {
   "cell_type": "markdown",
   "source": [
    "### Read in the data file\n",
    "\n",
    "Note that this is a very large data set with over 3.5 Gb. However, we will select\n",
    "only fake and reliable news from this data set to analyze.\n",
    "\n",
    "First we will work with a small chunk of data."
   ],
   "metadata": {
    "collapsed": false,
    "pycharm": {
     "name": "#%% md\n"
    }
   }
  },
  {
   "cell_type": "code",
   "execution_count": 2,
   "outputs": [],
   "source": [
    "import pandas as pd\n",
    "import numpy as np\n",
    "from datetime import datetime\n",
    "\n",
    "import nltk\n",
    "import re, string, unicodedata\n",
    "import contractions\n",
    "import inflect\n",
    "from nltk import word_tokenize, sent_tokenize\n",
    "from nltk.corpus import stopwords\n",
    "from nltk.stem import LancasterStemmer, WordNetLemmatizer"
   ],
   "metadata": {
    "collapsed": false,
    "pycharm": {
     "name": "#%%\n"
    }
   }
  },
  {
   "cell_type": "markdown",
   "source": [
    "### Pipeline\n",
    "\n",
    "Goal: Transform each Content columns and Title into a multiple vectors.\n",
    "\n",
    "Cleaning\n",
    "1. De-noise\n",
    "2. Tokenize\n",
    "3. Normalize\n",
    "\n",
    "Feature Engineering\n",
    "1. Bag of Words\n",
    "2. TF-IDF\n",
    "3. Word Embedding\n",
    "\n",
    "Further Improvement\n",
    "1. POS tagging\n",
    "2. Sentiment analysis\n",
    "3. Using vec2word somehow!\n",
    "\n",
    "Deep Learning\n",
    "1. Layers config\n",
    "2. loss config\n",
    "3. optimizer config"
   ],
   "metadata": {
    "collapsed": false,
    "pycharm": {
     "name": "#%% md\n"
    }
   }
  },
  {
   "cell_type": "code",
   "execution_count": 6,
   "outputs": [],
   "source": [
    "# Clean all columns and tokenize\n",
    "# df.content = df.content.map(denoise_text)\n",
    "# df.content = df.content.map(nltk.word_tokenize)\n",
    "# df.content = df.content.map(normalize)\n",
    "#\n",
    "# df.head()"
   ],
   "metadata": {
    "collapsed": false,
    "pycharm": {
     "name": "#%%\n"
    }
   }
  },
  {
   "cell_type": "markdown",
   "source": [
    "### Read and clean each chunk"
   ],
   "metadata": {
    "collapsed": false,
    "pycharm": {
     "name": "#%% md\n"
    }
   }
  },
  {
   "cell_type": "code",
   "execution_count": 7,
   "outputs": [],
   "source": [
    "# Increase csv file limit\n",
    "import csv\n",
    "csv.field_size_limit(2000000)\n",
    "\n",
    "# Data path for all saved data\n",
    "data_path = 'D:\\\\PycharmProjects\\\\springboard\\\\data\\\\'\n",
    "file_name = 'news_cleaned_2018_02_13.csv'\n",
    "\n",
    "# Chunk size\n",
    "chunksize = 5000\n",
    "\n",
    "# Only extract content and type columns\n",
    "use_cols = ['type', 'content']\n",
    "use_rows = ['fake', 'reliable']\n",
    "\n",
    "# read data in chunk\n",
    "data_iterator = pd.read_csv(f'{data_path}{file_name}',\n",
    "                    usecols=use_cols,\n",
    "                    chunksize=chunksize,\n",
    "                    encoding='ISO-8859-1',\n",
    "                    index_col=False,\n",
    "                    engine='python')\n",
    "\n",
    "chunk_list = []\n",
    "for chunk in data_iterator:\n",
    "    filtered_chunk = chunk[chunk.type.isin(use_rows)]\n",
    "    chunk_list.append(filtered_chunk)\n",
    "\n",
    "filtered_data = pd.concat(chunk_list)"
   ],
   "metadata": {
    "collapsed": false,
    "pycharm": {
     "name": "#%%\n"
    }
   }
  },
  {
   "cell_type": "code",
   "execution_count": 11,
   "outputs": [],
   "source": [
    "filtered_data.to_csv(\"D:\\\\PycharmProjects\\\\springboard\\\\data\\\\news_clean_1.csv\")\n"
   ],
   "metadata": {
    "collapsed": false,
    "pycharm": {
     "name": "#%%\n"
    }
   }
  }
 ],
 "metadata": {
  "kernelspec": {
   "display_name": "Python 3",
   "language": "python",
   "name": "python3"
  },
  "language_info": {
   "codemirror_mode": {
    "name": "ipython",
    "version": 2
   },
   "file_extension": ".py",
   "mimetype": "text/x-python",
   "name": "python",
   "nbconvert_exporter": "python",
   "pygments_lexer": "ipython2",
   "version": "2.7.6"
  }
 },
 "nbformat": 4,
 "nbformat_minor": 0
}