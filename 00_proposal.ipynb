{
 "cells": [
  {
   "cell_type": "markdown",
   "source": [
    "### Project proposals\n",
    "Q. What is the problem I want to solve.\n",
    "\n",
    "This is an era of information and mis-information. Hundreds of news articles\n",
    ", ranging from reliable to outright fake, are published daily. The danger comes\n",
    "from the sharing of unreliable news across social platforms. Using human\n",
    "reader simply takes too much times. Companies such as Twitter and Facebook are using machine learning\n",
    "to combat against such spread of fake news. This project will be an example of how deep learning\n",
    "can be used to identify fakes news.\n",
    "\n",
    "Q. Who is your client and why do they care about this problem? In other words,\n",
    "what will your client do or decide based on your analysis that they wouldn’t have\n",
    "done otherwise?\n",
    "\n",
    "Many social platforms and news pulling app will find the use for this\n",
    "algorithm. Once trained, the algorithm can automatically identify fake\n",
    "news and simply remove it. Moreover, it can improve itself by\n",
    "incorporating fresh batch of news articles. Since the algorithm predictions\n",
    "are probability, threshold can be adjust and closed calls can be manually\n",
    "reviewed by human readers.\n",
    "\n",
    "Q. What data are you using? How will you acquire the data?\n",
    "\n",
    "I am using this dataset:\n",
    "1. [news_corpus](https://github.com/several27/FakeNewsCorpus)\n",
    "    - News articles that are scraped across hundreds of platform\n",
    "    - All are labeled.\n",
    "\n",
    "Q. Briefly outline how you’ll solve this problem\n",
    "  1. Is this a supervised or unsupervised problem?\n",
    "        This is a supervised problem.\n",
    "  2. If supervised is it a classification or regression problem?\n",
    "        Classification.\n",
    "  3. What variable is it you are trying to predict?\n",
    "        type of news (fake or reliable)\n",
    "  4. What variables will you use as predictors?\n",
    "        articles content\n",
    "  5. What will be your training data?\n",
    "        A split of 70-30 for train and test sets."
   ],
   "metadata": {
    "collapsed": false
   }
  }
 ],
 "metadata": {
  "kernelspec": {
   "display_name": "Python 3",
   "language": "python",
   "name": "python3"
  },
  "language_info": {
   "codemirror_mode": {
    "name": "ipython",
    "version": 2
   },
   "file_extension": ".py",
   "mimetype": "text/x-python",
   "name": "python",
   "nbconvert_exporter": "python",
   "pygments_lexer": "ipython2",
   "version": "2.7.6"
  }
 },
 "nbformat": 4,
 "nbformat_minor": 0
}